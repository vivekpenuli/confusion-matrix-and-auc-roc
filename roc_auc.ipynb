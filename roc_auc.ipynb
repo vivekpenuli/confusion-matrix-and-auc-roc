{
  "nbformat": 4,
  "nbformat_minor": 0,
  "metadata": {
    "colab": {
      "name": "roc_auc",
      "provenance": [],
      "collapsed_sections": [],
      "authorship_tag": "ABX9TyOh0LBn74iDnyditX94mIbW",
      "include_colab_link": true
    },
    "kernelspec": {
      "name": "python3",
      "display_name": "Python 3"
    }
  },
  "cells": [
    {
      "cell_type": "markdown",
      "metadata": {
        "id": "view-in-github",
        "colab_type": "text"
      },
      "source": [
        "<a href=\"https://colab.research.google.com/github/vivekpenuli/confusion-matrix-and-auc-roc/blob/master/roc_auc.ipynb\" target=\"_parent\"><img src=\"https://colab.research.google.com/assets/colab-badge.svg\" alt=\"Open In Colab\"/></a>"
      ]
    },
    {
      "cell_type": "code",
      "metadata": {
        "id": "NU3-wxvsF-0z",
        "colab_type": "code",
        "colab": {}
      },
      "source": [
        "import pandas as pd\n",
        "url=\"https://raw.githubusercontent.com/vivekpenuli/confusion-matrix-and-auc-roc/master/pima-indians-diabetes.csv\""
      ],
      "execution_count": 106,
      "outputs": []
    },
    {
      "cell_type": "code",
      "metadata": {
        "id": "jLpFJXjrKrpQ",
        "colab_type": "code",
        "colab": {}
      },
      "source": [
        "col_names = ['pregnant', 'glucose', 'bp', 'skin', 'insulin', 'bmi', 'pedigree', 'age', 'label']\n",
        "\n",
        "df=pd.read_csv(url,names=col_names)"
      ],
      "execution_count": 107,
      "outputs": []
    },
    {
      "cell_type": "code",
      "metadata": {
        "id": "rOI8b38rKsPj",
        "colab_type": "code",
        "colab": {
          "base_uri": "https://localhost:8080/",
          "height": 204
        },
        "outputId": "af8abcb4-80e5-4999-8664-68dd6b61f526"
      },
      "source": [
        "df.head(5)"
      ],
      "execution_count": 108,
      "outputs": [
        {
          "output_type": "execute_result",
          "data": {
            "text/html": [
              "<div>\n",
              "<style scoped>\n",
              "    .dataframe tbody tr th:only-of-type {\n",
              "        vertical-align: middle;\n",
              "    }\n",
              "\n",
              "    .dataframe tbody tr th {\n",
              "        vertical-align: top;\n",
              "    }\n",
              "\n",
              "    .dataframe thead th {\n",
              "        text-align: right;\n",
              "    }\n",
              "</style>\n",
              "<table border=\"1\" class=\"dataframe\">\n",
              "  <thead>\n",
              "    <tr style=\"text-align: right;\">\n",
              "      <th></th>\n",
              "      <th>pregnant</th>\n",
              "      <th>glucose</th>\n",
              "      <th>bp</th>\n",
              "      <th>skin</th>\n",
              "      <th>insulin</th>\n",
              "      <th>bmi</th>\n",
              "      <th>pedigree</th>\n",
              "      <th>age</th>\n",
              "      <th>label</th>\n",
              "    </tr>\n",
              "  </thead>\n",
              "  <tbody>\n",
              "    <tr>\n",
              "      <th>0</th>\n",
              "      <td>6</td>\n",
              "      <td>148</td>\n",
              "      <td>72</td>\n",
              "      <td>35</td>\n",
              "      <td>0</td>\n",
              "      <td>33.6</td>\n",
              "      <td>0.627</td>\n",
              "      <td>50</td>\n",
              "      <td>1</td>\n",
              "    </tr>\n",
              "    <tr>\n",
              "      <th>1</th>\n",
              "      <td>1</td>\n",
              "      <td>85</td>\n",
              "      <td>66</td>\n",
              "      <td>29</td>\n",
              "      <td>0</td>\n",
              "      <td>26.6</td>\n",
              "      <td>0.351</td>\n",
              "      <td>31</td>\n",
              "      <td>0</td>\n",
              "    </tr>\n",
              "    <tr>\n",
              "      <th>2</th>\n",
              "      <td>8</td>\n",
              "      <td>183</td>\n",
              "      <td>64</td>\n",
              "      <td>0</td>\n",
              "      <td>0</td>\n",
              "      <td>23.3</td>\n",
              "      <td>0.672</td>\n",
              "      <td>32</td>\n",
              "      <td>1</td>\n",
              "    </tr>\n",
              "    <tr>\n",
              "      <th>3</th>\n",
              "      <td>1</td>\n",
              "      <td>89</td>\n",
              "      <td>66</td>\n",
              "      <td>23</td>\n",
              "      <td>94</td>\n",
              "      <td>28.1</td>\n",
              "      <td>0.167</td>\n",
              "      <td>21</td>\n",
              "      <td>0</td>\n",
              "    </tr>\n",
              "    <tr>\n",
              "      <th>4</th>\n",
              "      <td>0</td>\n",
              "      <td>137</td>\n",
              "      <td>40</td>\n",
              "      <td>35</td>\n",
              "      <td>168</td>\n",
              "      <td>43.1</td>\n",
              "      <td>2.288</td>\n",
              "      <td>33</td>\n",
              "      <td>1</td>\n",
              "    </tr>\n",
              "  </tbody>\n",
              "</table>\n",
              "</div>"
            ],
            "text/plain": [
              "   pregnant  glucose  bp  skin  insulin   bmi  pedigree  age  label\n",
              "0         6      148  72    35        0  33.6     0.627   50      1\n",
              "1         1       85  66    29        0  26.6     0.351   31      0\n",
              "2         8      183  64     0        0  23.3     0.672   32      1\n",
              "3         1       89  66    23       94  28.1     0.167   21      0\n",
              "4         0      137  40    35      168  43.1     2.288   33      1"
            ]
          },
          "metadata": {
            "tags": []
          },
          "execution_count": 108
        }
      ]
    },
    {
      "cell_type": "code",
      "metadata": {
        "id": "G_EVVPPFKsVz",
        "colab_type": "code",
        "colab": {}
      },
      "source": [
        "feature_cols = ['pregnant', 'insulin', 'bmi', 'age']\n",
        "X = df[feature_cols]\n",
        "y = df.label"
      ],
      "execution_count": 109,
      "outputs": []
    },
    {
      "cell_type": "markdown",
      "metadata": {
        "id": "twN56H8pPYzn",
        "colab_type": "text"
      },
      "source": [
        "checking score using  accuracy method"
      ]
    },
    {
      "cell_type": "code",
      "metadata": {
        "id": "zK0ch8sqKspd",
        "colab_type": "code",
        "colab": {}
      },
      "source": [
        "from sklearn.linear_model import LogisticRegression\n",
        "from sklearn.model_selection import cross_val_score,StratifiedKFold"
      ],
      "execution_count": 110,
      "outputs": []
    },
    {
      "cell_type": "code",
      "metadata": {
        "id": "MEUyeGiDKstG",
        "colab_type": "code",
        "colab": {
          "base_uri": "https://localhost:8080/",
          "height": 34
        },
        "outputId": "f43030d8-e7bb-4cb3-d341-966915a92022"
      },
      "source": [
        "skk=StratifiedKFold(shuffle=True,n_splits=10)\n",
        "logreg = LogisticRegression()\n",
        "score=cross_val_score(logreg,X,y,cv=skk,scoring='accuracy')\n",
        "print(score.mean())\n"
      ],
      "execution_count": 111,
      "outputs": [
        {
          "output_type": "stream",
          "text": [
            "0.6875256322624743\n"
          ],
          "name": "stdout"
        }
      ]
    },
    {
      "cell_type": "markdown",
      "metadata": {
        "id": "-z8fmERHPfT1",
        "colab_type": "text"
      },
      "source": [
        "accuracy using confusion matrix\n"
      ]
    },
    {
      "cell_type": "code",
      "metadata": {
        "id": "W1G5uH6GOypp",
        "colab_type": "code",
        "colab": {}
      },
      "source": [
        "from sklearn.model_selection import train_test_split\n",
        "X_train, X_test, y_train, y_test = train_test_split(X, y, random_state=0)\n"
      ],
      "execution_count": 112,
      "outputs": []
    },
    {
      "cell_type": "code",
      "metadata": {
        "id": "Gk5tT6fjPp0c",
        "colab_type": "code",
        "colab": {
          "base_uri": "https://localhost:8080/",
          "height": 102
        },
        "outputId": "c887ac45-e10e-460e-cd82-2a26a614544f"
      },
      "source": [
        "from sklearn.metrics import confusion_matrix\n",
        "model = LogisticRegression()\n",
        "model.fit(X_train, y_train)\n"
      ],
      "execution_count": 113,
      "outputs": [
        {
          "output_type": "execute_result",
          "data": {
            "text/plain": [
              "LogisticRegression(C=1.0, class_weight=None, dual=False, fit_intercept=True,\n",
              "                   intercept_scaling=1, l1_ratio=None, max_iter=100,\n",
              "                   multi_class='auto', n_jobs=None, penalty='l2',\n",
              "                   random_state=None, solver='lbfgs', tol=0.0001, verbose=0,\n",
              "                   warm_start=False)"
            ]
          },
          "metadata": {
            "tags": []
          },
          "execution_count": 113
        }
      ]
    },
    {
      "cell_type": "code",
      "metadata": {
        "id": "Y1ZENqTEoQcL",
        "colab_type": "code",
        "colab": {
          "base_uri": "https://localhost:8080/",
          "height": 34
        },
        "outputId": "6fa3a535-af5c-46e3-c23d-a9aa706103bc"
      },
      "source": [
        "print(model.predict([[0,168,43.1,33]]))  # so after training we precidct the value but what is the probability that it is one let check it out below"
      ],
      "execution_count": 114,
      "outputs": [
        {
          "output_type": "stream",
          "text": [
            "[1]\n"
          ],
          "name": "stdout"
        }
      ]
    },
    {
      "cell_type": "code",
      "metadata": {
        "id": "hHZ60KD1Ppvq",
        "colab_type": "code",
        "colab": {
          "base_uri": "https://localhost:8080/",
          "height": 51
        },
        "outputId": "4644fe73-9945-4184-8418-4cca22f1b221"
      },
      "source": [
        "pre=model.predict(X_test)\n",
        "matrix=confusion_matrix(y_test,pre)\n",
        "print(matrix)"
      ],
      "execution_count": 115,
      "outputs": [
        {
          "output_type": "stream",
          "text": [
            "[[114  16]\n",
            " [ 46  16]]\n"
          ],
          "name": "stdout"
        }
      ]
    },
    {
      "cell_type": "code",
      "metadata": {
        "id": "kE4eyDFrRI28",
        "colab_type": "code",
        "colab": {
          "base_uri": "https://localhost:8080/",
          "height": 51
        },
        "outputId": "06d38ecc-9384-4300-8818-449f04afee65"
      },
      "source": [
        "print('True:', y_test.values[0:25])\n",
        "print('Pred:', pre[0:25])\n",
        "#print('pred proba',model_pr)"
      ],
      "execution_count": 116,
      "outputs": [
        {
          "output_type": "stream",
          "text": [
            "True: [1 0 0 1 0 0 1 1 0 0 1 1 0 0 0 0 1 0 0 0 1 1 0 0 0]\n",
            "Pred: [0 0 0 0 0 0 0 1 0 1 0 1 0 0 0 0 0 0 0 0 0 0 0 0 0]\n"
          ],
          "name": "stdout"
        }
      ]
    },
    {
      "cell_type": "markdown",
      "metadata": {
        "id": "pCCKHcLksnpT",
        "colab_type": "text"
      },
      "source": [
        "more easy way to understand confusion matrix "
      ]
    },
    {
      "cell_type": "code",
      "metadata": {
        "id": "7GTtBamlsj7r",
        "colab_type": "code",
        "colab": {
          "base_uri": "https://localhost:8080/",
          "height": 85
        },
        "outputId": "00cda528-e209-46f0-fbbe-1938f03f4bc4"
      },
      "source": [
        "print('True:', y_test.values[0:10])\n",
        "print('Pred:', pre[0:10])\n",
        "matrix1=confusion_matrix(y_test[:10],pre[:10])\n",
        "print(matrix1)"
      ],
      "execution_count": 117,
      "outputs": [
        {
          "output_type": "stream",
          "text": [
            "True: [1 0 0 1 0 0 1 1 0 0]\n",
            "Pred: [0 0 0 0 0 0 0 1 0 1]\n",
            "[[5 1]\n",
            " [3 1]]\n"
          ],
          "name": "stdout"
        }
      ]
    },
    {
      "cell_type": "code",
      "metadata": {
        "id": "vLCHw_i4ti4q",
        "colab_type": "code",
        "colab": {
          "base_uri": "https://localhost:8080/",
          "height": 68
        },
        "outputId": "26b82da0-95d7-4cf0-d3f1-291163998c56"
      },
      "source": [
        "confusion1 = confusion_matrix(y_test[:10],pre[:10])\n",
        "TP1 = confusion1[1, 1]  \n",
        "TN1 = confusion1[0, 0]  \n",
        "FP1 = confusion1[0, 1]  \n",
        "FN1 = confusion1[1, 0]\n",
        "print(\"sensitivity\" + \" \" , TP1 / float(TP1 + FN1))\n",
        "print(\"specificity\" + \" \" ,TN1 / float(TN1 + FP1))\n",
        "print(\"precision\" + \" \", TP1/float(TP1+FP1))"
      ],
      "execution_count": 118,
      "outputs": [
        {
          "output_type": "stream",
          "text": [
            "sensitivity  0.25\n",
            "specificity  0.8333333333333334\n",
            "precision  0.5\n"
          ],
          "name": "stdout"
        }
      ]
    },
    {
      "cell_type": "code",
      "metadata": {
        "id": "94F1zWsAbF3T",
        "colab_type": "code",
        "colab": {}
      },
      "source": [
        "confusion = confusion_matrix(y_test,pre)\n",
        "TP = confusion[1, 1]  # actual yes predicted yes\n",
        "TN = confusion[0, 0]  # actual no predicted no\n",
        "FP = confusion[0, 1]  # actula no predicted yes\n",
        "FN = confusion[1, 0]  #actual yes predicted no"
      ],
      "execution_count": 119,
      "outputs": []
    },
    {
      "cell_type": "code",
      "metadata": {
        "id": "ls7e0f2zbFzb",
        "colab_type": "code",
        "colab": {
          "base_uri": "https://localhost:8080/",
          "height": 34
        },
        "outputId": "1c5bc807-cce1-47ad-a5be-91a7214237c2"
      },
      "source": [
        "#sensitivity\n",
        "print(TP / float(TP + FN))"
      ],
      "execution_count": 120,
      "outputs": [
        {
          "output_type": "stream",
          "text": [
            "0.25806451612903225\n"
          ],
          "name": "stdout"
        }
      ]
    },
    {
      "cell_type": "code",
      "metadata": {
        "id": "JLnYfyaybFsO",
        "colab_type": "code",
        "colab": {
          "base_uri": "https://localhost:8080/",
          "height": 34
        },
        "outputId": "4b057142-fa94-4963-d76c-f70be4c36d51"
      },
      "source": [
        "#specificity\n",
        "print(TN / float(TN + FP))"
      ],
      "execution_count": 121,
      "outputs": [
        {
          "output_type": "stream",
          "text": [
            "0.8769230769230769\n"
          ],
          "name": "stdout"
        }
      ]
    },
    {
      "cell_type": "markdown",
      "metadata": {
        "id": "gsc9qy-jbkVJ",
        "colab_type": "text"
      },
      "source": [
        "adjusting threshold\n"
      ]
    },
    {
      "cell_type": "code",
      "metadata": {
        "id": "gfHPoWn5cSVH",
        "colab_type": "code",
        "colab": {
          "base_uri": "https://localhost:8080/",
          "height": 102
        },
        "outputId": "307e0b2c-a23f-4c40-d402-7ee26032f27c"
      },
      "source": [
        "model.predict_proba(X_test)[0:5]"
      ],
      "execution_count": 122,
      "outputs": [
        {
          "output_type": "execute_result",
          "data": {
            "text/plain": [
              "array([[0.61405867, 0.38594133],\n",
              "       [0.7505398 , 0.2494602 ],\n",
              "       [0.74167648, 0.25832352],\n",
              "       [0.60291327, 0.39708673],\n",
              "       [0.88426611, 0.11573389]])"
            ]
          },
          "metadata": {
            "tags": []
          },
          "execution_count": 122
        }
      ]
    },
    {
      "cell_type": "code",
      "metadata": {
        "id": "BhOP2Tmbn5mb",
        "colab_type": "code",
        "colab": {
          "base_uri": "https://localhost:8080/",
          "height": 34
        },
        "outputId": "ef24b44c-3407-4622-e1c3-d2d36f6156ea"
      },
      "source": [
        "model.predict_proba([[0,168,43.1,33]]) # so this is the percentage of 0 and 1"
      ],
      "execution_count": 123,
      "outputs": [
        {
          "output_type": "execute_result",
          "data": {
            "text/plain": [
              "array([[0.4306164, 0.5693836]])"
            ]
          },
          "metadata": {
            "tags": []
          },
          "execution_count": 123
        }
      ]
    },
    {
      "cell_type": "code",
      "metadata": {
        "id": "GTfvHu84ryi8",
        "colab_type": "code",
        "colab": {
          "base_uri": "https://localhost:8080/",
          "height": 34
        },
        "outputId": "03208159-89e8-4b57-b50f-d9fc995ec9d8"
      },
      "source": [
        "model.predict_proba([[0,168,43.1,33]])[:,1] # probability of 1"
      ],
      "execution_count": 124,
      "outputs": [
        {
          "output_type": "execute_result",
          "data": {
            "text/plain": [
              "array([0.5693836])"
            ]
          },
          "metadata": {
            "tags": []
          },
          "execution_count": 124
        }
      ]
    },
    {
      "cell_type": "code",
      "metadata": {
        "id": "YYnwX-uoqyHI",
        "colab_type": "code",
        "colab": {}
      },
      "source": [
        "go=model.predict_proba([[0,168,43.1,33]])[:,1]"
      ],
      "execution_count": 125,
      "outputs": []
    },
    {
      "cell_type": "code",
      "metadata": {
        "id": "EaomMlUrWB_B",
        "colab_type": "code",
        "colab": {
          "base_uri": "https://localhost:8080/",
          "height": 34
        },
        "outputId": "2104ea3d-faab-449b-d610-7cd6a9058b0e"
      },
      "source": [
        "y_pred_prob = model.predict_proba(X_test)[:, 1]\n",
        "y_pred_prob[0:5]"
      ],
      "execution_count": 126,
      "outputs": [
        {
          "output_type": "execute_result",
          "data": {
            "text/plain": [
              "array([0.38594133, 0.2494602 , 0.25832352, 0.39708673, 0.11573389])"
            ]
          },
          "metadata": {
            "tags": []
          },
          "execution_count": 126
        }
      ]
    },
    {
      "cell_type": "markdown",
      "metadata": {
        "id": "K01AvsN1rY5s",
        "colab_type": "text"
      },
      "source": [
        "but what if some day a herat patient comes and you have to cehck whether it is a heart patient or not\n",
        "then you shilft your threshold"
      ]
    },
    {
      "cell_type": "code",
      "metadata": {
        "id": "Dnik68j6WB5l",
        "colab_type": "code",
        "colab": {}
      },
      "source": [
        "from sklearn.preprocessing import binarize\n",
        "y_pred_class = binarize([y_pred_prob], 0.3)[0]\n",
        "yy=binarize([go],0.6)[0]         # if  probabaility is greater then 0.6 then it will treat 1"
      ],
      "execution_count": 127,
      "outputs": []
    },
    {
      "cell_type": "code",
      "metadata": {
        "id": "kxd1cXB-sGUT",
        "colab_type": "code",
        "colab": {
          "base_uri": "https://localhost:8080/",
          "height": 221
        },
        "outputId": "8e92ab7d-39b0-4504-a6af-a8d92aeade39"
      },
      "source": [
        " binarize([y_pred_prob], 0.3)[0]"
      ],
      "execution_count": 128,
      "outputs": [
        {
          "output_type": "execute_result",
          "data": {
            "text/plain": [
              "array([1., 0., 0., 1., 0., 0., 1., 1., 0., 1., 1., 1., 1., 0., 1., 0., 1.,\n",
              "       0., 1., 1., 1., 1., 0., 1., 0., 0., 0., 1., 0., 0., 1., 1., 0., 1.,\n",
              "       0., 1., 1., 0., 0., 0., 0., 1., 0., 0., 1., 0., 0., 0., 1., 0., 0.,\n",
              "       0., 1., 1., 1., 0., 0., 1., 0., 0., 1., 1., 0., 0., 0., 0., 1., 0.,\n",
              "       1., 1., 0., 0., 0., 1., 1., 0., 1., 1., 0., 1., 1., 1., 0., 0., 1.,\n",
              "       1., 0., 1., 1., 1., 0., 0., 0., 0., 1., 0., 1., 1., 1., 1., 1., 0.,\n",
              "       1., 0., 1., 1., 0., 0., 0., 0., 0., 1., 1., 0., 1., 1., 0., 0., 0.,\n",
              "       1., 1., 1., 1., 1., 0., 0., 1., 1., 1., 0., 0., 0., 0., 1., 1., 1.,\n",
              "       0., 1., 0., 0., 0., 1., 0., 1., 1., 0., 0., 0., 0., 1., 0., 1., 0.,\n",
              "       0., 1., 0., 1., 0., 1., 1., 1., 1., 0., 0., 1., 0., 1., 0., 0., 0.,\n",
              "       0., 1., 0., 1., 1., 0., 1., 1., 0., 0., 1., 1., 1., 1., 0., 0., 1.,\n",
              "       0., 0., 0., 0., 0.])"
            ]
          },
          "metadata": {
            "tags": []
          },
          "execution_count": 128
        }
      ]
    },
    {
      "cell_type": "code",
      "metadata": {
        "id": "DXEmFNTZWBxY",
        "colab_type": "code",
        "colab": {
          "base_uri": "https://localhost:8080/",
          "height": 51
        },
        "outputId": "218b3765-c25a-4923-d908-0da7801ed676"
      },
      "source": [
        "y_pred_prob[0:10]"
      ],
      "execution_count": 129,
      "outputs": [
        {
          "output_type": "execute_result",
          "data": {
            "text/plain": [
              "array([0.38594133, 0.2494602 , 0.25832352, 0.39708673, 0.11573389,\n",
              "       0.12304105, 0.49180008, 0.55417711, 0.22049231, 0.74146697])"
            ]
          },
          "metadata": {
            "tags": []
          },
          "execution_count": 129
        }
      ]
    },
    {
      "cell_type": "code",
      "metadata": {
        "id": "NhJfmEHaseRT",
        "colab_type": "code",
        "colab": {
          "base_uri": "https://localhost:8080/",
          "height": 34
        },
        "outputId": "7b31c82a-0f41-45f5-de43-3b8ad675ae04"
      },
      "source": [
        "yy       # so here the answer is 0 because threshols shifted to 0.6"
      ],
      "execution_count": 131,
      "outputs": [
        {
          "output_type": "execute_result",
          "data": {
            "text/plain": [
              "array([0.])"
            ]
          },
          "metadata": {
            "tags": []
          },
          "execution_count": 131
        }
      ]
    },
    {
      "cell_type": "code",
      "metadata": {
        "id": "ugaYonEUWBoQ",
        "colab_type": "code",
        "colab": {
          "base_uri": "https://localhost:8080/",
          "height": 34
        },
        "outputId": "29963480-5e1b-4843-e335-239a84eb696b"
      },
      "source": [
        "y_pred_class[0:10]"
      ],
      "execution_count": 137,
      "outputs": [
        {
          "output_type": "execute_result",
          "data": {
            "text/plain": [
              "array([1., 0., 0., 1., 0., 0., 1., 1., 0., 1.])"
            ]
          },
          "metadata": {
            "tags": []
          },
          "execution_count": 137
        }
      ]
    },
    {
      "cell_type": "code",
      "metadata": {
        "id": "gAUu2FmrYSXa",
        "colab_type": "code",
        "colab": {
          "base_uri": "https://localhost:8080/",
          "height": 51
        },
        "outputId": "7fc2e89d-8afa-439c-8c55-2fca9aba0cc0"
      },
      "source": [
        "pre=model.predict(X_test)\n",
        "matrix=confusion_matrix(y_test,pre)  # using threshold 0.5 in model \n",
        "print(matrix)"
      ],
      "execution_count": 136,
      "outputs": [
        {
          "output_type": "stream",
          "text": [
            "[[114  16]\n",
            " [ 46  16]]\n"
          ],
          "name": "stdout"
        }
      ]
    },
    {
      "cell_type": "code",
      "metadata": {
        "id": "dtwa70kbYSOS",
        "colab_type": "code",
        "colab": {
          "base_uri": "https://localhost:8080/",
          "height": 51
        },
        "outputId": "7603a12b-8d8e-40df-cf22-fea086d34c9f"
      },
      "source": [
        "matrix2=confusion_matrix(y_test,y_pred_class)   #here whrn threshold set to 0.3 \n",
        "print(matrix2)"
      ],
      "execution_count": 135,
      "outputs": [
        {
          "output_type": "stream",
          "text": [
            "[[82 48]\n",
            " [17 45]]\n"
          ],
          "name": "stdout"
        }
      ]
    },
    {
      "cell_type": "code",
      "metadata": {
        "id": "lPLyxHukYSBn",
        "colab_type": "code",
        "colab": {
          "base_uri": "https://localhost:8080/",
          "height": 34
        },
        "outputId": "f7478574-8fd7-4389-c177-43567747c80c"
      },
      "source": [
        "#sensitivity when threshold is 0.3\n",
        "print( 45/float(45+17))"
      ],
      "execution_count": 134,
      "outputs": [
        {
          "output_type": "stream",
          "text": [
            "0.7258064516129032\n"
          ],
          "name": "stdout"
        }
      ]
    },
    {
      "cell_type": "code",
      "metadata": {
        "id": "AZarx-hsYRxE",
        "colab_type": "code",
        "colab": {
          "base_uri": "https://localhost:8080/",
          "height": 34
        },
        "outputId": "263dfb0e-01d7-440e-c40a-9f2effa94b0f"
      },
      "source": [
        "#specificity \n",
        "print(82/ float(82+48))"
      ],
      "execution_count": 133,
      "outputs": [
        {
          "output_type": "stream",
          "text": [
            "0.6307692307692307\n"
          ],
          "name": "stdout"
        }
      ]
    },
    {
      "cell_type": "markdown",
      "metadata": {
        "id": "13Wm12S_mjDC",
        "colab_type": "text"
      },
      "source": [
        "area under the curve\n"
      ]
    },
    {
      "cell_type": "code",
      "metadata": {
        "id": "HgRz8UzymCcc",
        "colab_type": "code",
        "colab": {
          "base_uri": "https://localhost:8080/",
          "height": 34
        },
        "outputId": "16b6c3c1-f514-43a8-8972-60136f0ebc94"
      },
      "source": [
        "from sklearn.metrics import roc_curve, roc_auc_score\n",
        "r_auc = roc_auc_score(y_test,y_pred_prob)\n",
        "print('logistic: AUROC = %.4f' % (r_auc))"
      ],
      "execution_count": 139,
      "outputs": [
        {
          "output_type": "stream",
          "text": [
            "logistic: AUROC = 0.7227\n"
          ],
          "name": "stdout"
        }
      ]
    },
    {
      "cell_type": "code",
      "metadata": {
        "id": "VCuMCicJPpr1",
        "colab_type": "code",
        "colab": {
          "base_uri": "https://localhost:8080/",
          "height": 295
        },
        "outputId": "566e6a0d-d3c3-430f-9313-0359c667f53a"
      },
      "source": [
        "from sklearn.metrics import roc_curve\n",
        "\n",
        "import matplotlib.pyplot as plt\n",
        "\n",
        "fpr, tpr, thresholds = roc_curve(y_test,y_pred_prob)\n",
        "#fpr, tpr, thresholds = roc_curve(y_test, pre)\n",
        "#plt.plot(fpr, tpr, label='Logistic Regression (area = %0.2f)' % model_roc_auc)\n",
        "\n",
        "plt.plot(fpr, tpr, label='Logistic Regression (area = %0.4f)' % r_auc)\n",
        "plt.plot(fpr, tpr)\n",
        "\n",
        "plt.xlim([0.0, 1.0])\n",
        "plt.ylim([0.0, 1.0])\n",
        "plt.title('ROC curve for diabetes classifier')\n",
        "plt.xlabel('False Positive Rate (1 - Specificity)')\n",
        "plt.ylabel('True Positive Rate (Sensitivity)')\n",
        "plt.legend(loc=\"lower right\")\n",
        "plt.grid(True)"
      ],
      "execution_count": 140,
      "outputs": [
        {
          "output_type": "display_data",
          "data": {
            "image/png": "[encoded data removed]",
            "text/plain": [
              "<Figure size 432x288 with 1 Axes>"
            ]
          },
          "metadata": {
            "tags": [],
            "needs_background": "light"
          }
        }
      ]
    },
    {
      "cell_type": "markdown",
      "metadata": {
        "id": "rsx-sRUWiiOY",
        "colab_type": "text"
      },
      "source": [
        "so the problem is what if we want to check confusion matrix for different  threshold then instead of changing threshold we draw roc_auc curve to do this\n"
      ]
    },
    {
      "cell_type": "code",
      "metadata": {
        "id": "lcLOmyXmh2kS",
        "colab_type": "code",
        "colab": {}
      },
      "source": [
        "# define a function that accepts a threshold and prints sensitivity and specificity\n",
        "def evaluate_threshold(threshold):\n",
        "    print('Sensitivity:', tpr[thresholds > threshold][-1])\n",
        "    print('Specificity:', 1 - fpr[thresholds > threshold][-1])"
      ],
      "execution_count": 141,
      "outputs": []
    },
    {
      "cell_type": "code",
      "metadata": {
        "id": "3DAjimEzh2bw",
        "colab_type": "code",
        "colab": {
          "base_uri": "https://localhost:8080/",
          "height": 51
        },
        "outputId": "166eb3c5-0cf7-49c5-f870-ba4ef602b13a"
      },
      "source": [
        "\n",
        "evaluate_threshold(0.5)"
      ],
      "execution_count": 142,
      "outputs": [
        {
          "output_type": "stream",
          "text": [
            "Sensitivity: 0.25806451612903225\n",
            "Specificity: 0.8769230769230769\n"
          ],
          "name": "stdout"
        }
      ]
    },
    {
      "cell_type": "code",
      "metadata": {
        "id": "Jlf9hTlDjWBr",
        "colab_type": "code",
        "colab": {
          "base_uri": "https://localhost:8080/",
          "height": 51
        },
        "outputId": "fc1056ef-68b7-4ff5-8a46-8c376ac32d21"
      },
      "source": [
        "evaluate_threshold(0.3)"
      ],
      "execution_count": 143,
      "outputs": [
        {
          "output_type": "stream",
          "text": [
            "Sensitivity: 0.7258064516129032\n",
            "Specificity: 0.6307692307692307\n"
          ],
          "name": "stdout"
        }
      ]
    },
    {
      "cell_type": "code",
      "metadata": {
        "id": "VjFBs2RrPpkG",
        "colab_type": "code",
        "colab": {
          "base_uri": "https://localhost:8080/",
          "height": 34
        },
        "outputId": "1057fead-490d-4ef9-ba4b-beae7e3bcf81"
      },
      "source": [
        "from sklearn.model_selection import cross_val_score\n",
        "cross_val_score(logreg, X, y, cv=10, scoring='roc_auc').mean()"
      ],
      "execution_count": 144,
      "outputs": [
        {
          "output_type": "execute_result",
          "data": {
            "text/plain": [
              "0.7425071225071225"
            ]
          },
          "metadata": {
            "tags": []
          },
          "execution_count": 144
        }
      ]
    }
  ]
}